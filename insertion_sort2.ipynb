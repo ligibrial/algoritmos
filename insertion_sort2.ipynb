{
 "cells": [
  {
   "cell_type": "code",
   "execution_count": 9,
   "metadata": {
    "collapsed": false
   },
   "outputs": [],
   "source": [
    "\"\"\"Analisis experimental de Insertion sort\"\"\"\n",
    "\n",
    "from time import time\n",
    "import itertools\n",
    "import numpy as np\n",
    "import pylab as pl\n",
    "from __future__ import unicode_literals\n",
    "%matplotlib inline\n",
    "import matplotlib.pyplot as plt\n"
   ]
  },
  {
   "cell_type": "code",
   "execution_count": 10,
   "metadata": {
    "collapsed": true
   },
   "outputs": [],
   "source": [
    "A = [1,2,3,4]\n",
    "\"\"\"Permutaciones del arreglo, usadas para el cálculo del tiempo promedio\"\"\"\n",
    "permutations = itertools.permutations(A)"
   ]
  },
  {
   "cell_type": "code",
   "execution_count": 11,
   "metadata": {
    "collapsed": false
   },
   "outputs": [],
   "source": [
    "def insertion_sort(A):\n",
    "    j = 1\n",
    "    while j < len(A):\n",
    "        key = A[j]\n",
    "        i = j - 1\n",
    "        while (i >= 0) and (A[i] > key):\n",
    "            A[i + 1] = A[i]\n",
    "            i = i -1\n",
    "        A[i + 1] = key\n",
    "        j = j + 1       \n"
   ]
  },
  {
   "cell_type": "code",
   "execution_count": 202,
   "metadata": {
    "collapsed": false
   },
   "outputs": [
    {
     "name": "stdout",
     "output_type": "stream",
     "text": [
      "best case, n=4 2.42972373962e-06\n",
      "best case, n=5 3.10182571411e-06\n",
      "best case, n=6 3.821849823e-06\n",
      "worst case, n=4 4.48322296143e-06\n",
      "worst case, n=5 6.46567344666e-06\n",
      "worst case, n=6 8.51655006409e-06\n"
     ]
    }
   ],
   "source": [
    "\"\"\"Usado para medir los tiempos del mejor y el peor caso\"\"\"\n",
    "sumtimes = 0\n",
    "for times in range (1000):\n",
    "    test = [1,2,3,4]\n",
    "    \n",
    "    init_time = time()\n",
    "    \n",
    "    insertion_sort(test)\n",
    "    \n",
    "    \n",
    "    sumtimes+= time()-init_time\n",
    "\n",
    "bestcase_n4 = sumtimes/1000.0  \n",
    "    \n",
    "print \"best case, n=4\", bestcase_n4\n",
    "\n",
    "\n",
    "\n",
    "\n",
    "sumtimes = 0\n",
    "for times in range (1000):\n",
    "    test = [1,2,3,4,5]\n",
    "    \n",
    "    init_time = time()\n",
    "    \n",
    "    insertion_sort(test)\n",
    "    \n",
    "    \n",
    "    sumtimes+= time()-init_time\n",
    "\n",
    "bestcase_n5 = sumtimes/1000.0  \n",
    "    \n",
    "print \"best case, n=5\", bestcase_n5\n",
    "\n",
    "sumtimes = 0\n",
    "for times in range (1000):\n",
    "    test = [1,2,3,4,5,6]\n",
    "    \n",
    "    init_time = time()\n",
    "    \n",
    "    insertion_sort(test)\n",
    "    \n",
    "    \n",
    "    sumtimes+= time()-init_time\n",
    "\n",
    "bestcase_n6 = sumtimes/1000.0  \n",
    "    \n",
    "print \"best case, n=6\", bestcase_n6\n",
    "\n",
    "sumtimes = 0\n",
    "for times in range (1000):\n",
    "    test = [4,3,2,1]\n",
    "    \n",
    "    init_time = time()\n",
    "    \n",
    "    insertion_sort(test)\n",
    "    \n",
    "    \n",
    "    sumtimes+= time()-init_time\n",
    "\n",
    "worstcase_n4 = sumtimes/1000.0  \n",
    "    \n",
    "print \"worst case, n=4\", worstcase_n4\n",
    "\n",
    "\n",
    "\n",
    "\n",
    "sumtimes = 0\n",
    "for times in range (1000):\n",
    "    test = [5,4,3,2,1]\n",
    "    \n",
    "    init_time = time()\n",
    "    \n",
    "    insertion_sort(test)\n",
    "    \n",
    "    \n",
    "    sumtimes+= time()-init_time\n",
    "\n",
    "worstcase_n5 = sumtimes/1000.0  \n",
    "    \n",
    "print \"worst case, n=5\", worstcase_n5\n",
    "\n",
    "sumtimes = 0\n",
    "for times in range (1000):\n",
    "    test = [6,5,4,3,2,1]\n",
    "    \n",
    "    init_time = time()\n",
    "    \n",
    "    insertion_sort(test)\n",
    "    \n",
    "    sumtimes+= time()-init_time\n",
    "\n",
    "worstcase_n6 = sumtimes/1000.0  \n",
    "    \n",
    "print \"worst case, n=6\", worstcase_n6\n",
    "\n",
    "\n",
    "\n"
   ]
  },
  {
   "cell_type": "code",
   "execution_count": 245,
   "metadata": {
    "collapsed": false
   },
   "outputs": [
    {
     "name": "stdout",
     "output_type": "stream",
     "text": [
      "[1, 2, 3, 4]\n",
      "[3.1093756357828775e-06, 5.11010487874349e-06, 7.277064853244358e-06]\n"
     ]
    }
   ],
   "source": [
    "\"\"\"Calculamos el tiempo de todas las permutaciones del arreglo\"\"\"\n",
    "import math\n",
    "A = [1,2,3,4]\n",
    "permutations = itertools.permutations(A)\n",
    "print A\n",
    "average_times = []\n",
    "for tests in xrange(3):\n",
    "    sumtimes = 0\n",
    "    for p in permutations:\n",
    "        \n",
    "        the_list = []\n",
    "        the_list.append(p)\n",
    "        tuple_to_list= [x for xs in the_list for x in xs]\n",
    "       \n",
    "        initial_time = time()\n",
    "        insertion_sort(tuple_to_list)    \n",
    "        sumtimes += time()-initial_time\n",
    "       \n",
    "    average_times.append(sumtimes/math.factorial(tests+4))\n",
    "    A.append(tests+5)\n",
    "    permutations = itertools.permutations(A)\n",
    "\n",
    "print average_times"
   ]
  },
  {
   "cell_type": "code",
   "execution_count": 246,
   "metadata": {
    "collapsed": false
   },
   "outputs": [
    {
     "data": {
      "text/plain": [
       "<matplotlib.legend.Legend at 0x7f8559665050>"
      ]
     },
     "execution_count": 246,
     "metadata": {},
     "output_type": "execute_result"
    },
    {
     "data": {
      "image/png": "[encoded data removed]",
      "text/plain": [
       "<matplotlib.figure.Figure at 0x7f8559da81d0>"
      ]
     },
     "metadata": {},
     "output_type": "display_data"
    }
   ],
   "source": [
    "import sympy as sy\n",
    "\n",
    "from matplotlib.pyplot import *\n",
    "\n",
    "\n",
    "\"\"\"Polinomio para el mejor caso\"\"\"\n",
    "\n",
    "x = np.array([4,5,6])\n",
    "y_worst = np.array([4.48322296143e-06\n",
    ", 6.46567344666e-06\n",
    ", 8.51655006409e-06\n",
    "\n",
    "])\n",
    "\n",
    "y_best = np.array([2.42972373962e-06\n",
    ",3.10182571411e-06\n",
    ", 3.821849823e-06])\n",
    "\n",
    "y_average = [3.1093756357828775e-06, 5.11010487874349e-06, 7.277064853244358e-06]\n",
    "\n",
    "z_best = np.polyfit(x, y_best, 2)\n",
    "z_average = np.polyfit(x, y_average, 2)\n",
    "z_worst = np.polyfit(x, y_worst, 2)\n",
    "\n",
    "\n",
    "\n",
    "def best_case(x):\n",
    "    return ((z_best[0]*(x-5)*(x-6))+(z_best[1]*(x-4)*(x-6))+(z_best[1]*(x-4)*(x-5)))\n",
    "\n",
    "def p_average(x):\n",
    "    return ((z_average[0]*(x-5)*(x-6))+(z_average[1]*(x-4)*(x-6))+(z_average[1]*(x-4)*(x-5)))\n",
    "\n",
    "def p_worst(x):\n",
    "    return ((z_worst[0]*(x-5)*(x-6))+(z_worst[1]*(x-4)*(x-6))+(z_worst[1]*(x-4)*(x-5)))\n",
    "\n",
    "\n",
    "ns = np.arange(1,10**6,10**5)\n",
    "pl.ylabel(\"Tiempo\")\n",
    "pl.xlabel('Tamaño')\n",
    "pl.plot( ns, p_worst(ns), ns, p_average(ns), ns, best_case(ns))\n",
    "pl.plot(ns, p_worst(ns), 'k.', label = 'worst case')\n",
    "pl.plot(ns, p_average(ns), 'bx', label = 'Average case')\n",
    "pl.plot(ns, best_case(ns), 'd', label = 'Best case')\n",
    "pl.legend(loc = 'upper left')\n"
   ]
  },
  {
   "cell_type": "code",
   "execution_count": null,
   "metadata": {
    "collapsed": true
   },
   "outputs": [],
   "source": []
  }
 ],
 "metadata": {
  "kernelspec": {
   "display_name": "Python 2",
   "language": "python",
   "name": "python2"
  },
  "language_info": {
   "codemirror_mode": {
    "name": "ipython",
    "version": 2
   },
   "file_extension": ".py",
   "mimetype": "text/x-python",
   "name": "python",
   "nbconvert_exporter": "python",
   "pygments_lexer": "ipython2",
   "version": "2.7.11"
  }
 },
 "nbformat": 4,
 "nbformat_minor": 0
}
