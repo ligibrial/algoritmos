{
 "cells": [
  {
   "cell_type": "markdown",
   "metadata": {},
   "source": [
    "# punto1\n"
   ]
  },
  {
   "cell_type": "code",
   "execution_count": 478,
   "metadata": {
    "collapsed": true
   },
   "outputs": [],
   "source": [
    "\n",
    "import math\n",
    "import itertools\n",
    "import numpy as np\n",
    "import pylab as pl\n",
    "import pandas as pd\n",
    "import time\n",
    "import gc\n",
    "import matplotlib.pyplot as plt\n",
    "import scipy\n",
    "from __future__ import unicode_literals\n",
    "%matplotlib inline"
   ]
  },
  {
   "cell_type": "code",
   "execution_count": 479,
   "metadata": {
    "collapsed": true
   },
   "outputs": [],
   "source": [
    "\n",
    "def insertion_sort(A):\n",
    "    time1=time.clock()\n",
    "    j=1\n",
    "    while j < len(A):\n",
    "        pos = A[j]\n",
    "        i = j - 1\n",
    "        while (i >= 0) and (A[i] > pos):\n",
    "            A[i + 1] = A[i]\n",
    "            i -= 1\n",
    "        A[i + 1] = pos\n",
    "        j += 1\n",
    "    return time.clock()-time1"
   ]
  },
  {
   "cell_type": "code",
   "execution_count": 480,
   "metadata": {
    "collapsed": false
   },
   "outputs": [
    {
     "data": {
      "text/plain": [
       "0.0001256205068784766"
      ]
     },
     "execution_count": 480,
     "metadata": {},
     "output_type": "execute_result"
    }
   ],
   "source": [
    "a=[3,4,5,6]\n",
    "insertion_sort(a)"
   ]
  },
  {
   "cell_type": "markdown",
   "metadata": {},
   "source": [
    "calculo de tiempo para el mejor caso "
   ]
  },
  {
   "cell_type": "code",
   "execution_count": 481,
   "metadata": {
    "collapsed": false
   },
   "outputs": [],
   "source": [
    "def calc_timemejor( n):\n",
    "    timesum = 0\n",
    "    gc.collect()\n",
    "    for i in range(1000):\n",
    "        ordenada=range(1,n+1)\n",
    "    \n",
    "        timesum+=insertion_sort(ordenada)\n",
    "        \n",
    "    return (timesum/1000)"
   ]
  },
  {
   "cell_type": "markdown",
   "metadata": {},
   "source": [
    "claculo de tiempo para el peor caso "
   ]
  },
  {
   "cell_type": "code",
   "execution_count": 483,
   "metadata": {
    "collapsed": false
   },
   "outputs": [],
   "source": [
    "def calc_timepeor( n):\n",
    "    \n",
    "    timesum = 0\n",
    "    gc.collect()\n",
    "   \n",
    "    for i in range(1000):\n",
    "        desordenada=range(n,0,-1)\n",
    "        \n",
    "        timesum+=insertion_sort(desordenada)\n",
    "        \n",
    "    return (timesum/1000)"
   ]
  },
  {
   "cell_type": "code",
   "execution_count": null,
   "metadata": {
    "collapsed": true
   },
   "outputs": [],
   "source": [
    "calculo de tiempo para el caso promedio para todas las permutaciones"
   ]
  },
  {
   "cell_type": "code",
   "execution_count": 485,
   "metadata": {
    "collapsed": false
   },
   "outputs": [],
   "source": [
    "def calc_timemedio(n):\n",
    " \n",
    "    medio=0\n",
    "    tam=0\n",
    "    timesum=0\n",
    "    gc.collect()\n",
    "    lista=range(1,n+1)\n",
    "    for i in range(1000):\n",
    "        for p in itertools.permutations(lista):\n",
    "            medio+=insertion_sort(list(p))\n",
    "            tam+=1\n",
    "        timesum+=(medio/tam)\n",
    "        \n",
    "    return (timesum/1000)\n",
    "            "
   ]
  },
  {
   "cell_type": "markdown",
   "metadata": {},
   "source": [
    "mejores"
   ]
  },
  {
   "cell_type": "code",
   "execution_count": 487,
   "metadata": {
    "collapsed": false
   },
   "outputs": [
    {
     "name": "stdout",
     "output_type": "stream",
     "text": [
      "[4.808063313248567e-06, 5.84094308760541e-06, 6.765444362827111e-06]\n"
     ]
    }
   ],
   "source": [
    "mejores=[]\n",
    "mejor4=calc_timemejor(4)\n",
    "mejor5=calc_timemejor(5)\n",
    "mejor6=calc_timemejor(6)\n",
    "mejores.append(mejor4)\n",
    "mejores.append(mejor5)\n",
    "mejores.append(mejor6)\n",
    "print mejores"
   ]
  },
  {
   "cell_type": "markdown",
   "metadata": {},
   "source": [
    "peores"
   ]
  },
  {
   "cell_type": "code",
   "execution_count": 488,
   "metadata": {
    "collapsed": false
   },
   "outputs": [
    {
     "name": "stdout",
     "output_type": "stream",
     "text": [
      "[1.0728237701187026e-05, 1.4538315856043483e-05, 2.1717979494496832e-05]\n"
     ]
    }
   ],
   "source": [
    "peores=[]\n",
    "peores.append(calc_timepeor(4))\n",
    "peores.append(calc_timepeor(5))\n",
    "peores.append(calc_timepeor(6))\n",
    "print peores\n"
   ]
  },
  {
   "cell_type": "markdown",
   "metadata": {},
   "source": [
    "promedios"
   ]
  },
  {
   "cell_type": "code",
   "execution_count": 489,
   "metadata": {
    "collapsed": false
   },
   "outputs": [
    {
     "name": "stdout",
     "output_type": "stream",
     "text": [
      "[6.567562252454905e-06, 9.537487479520194e-06, 1.2177435859404138e-05]\n"
     ]
    }
   ],
   "source": [
    "promedios=[]\n",
    "promedios.append( calc_timemedio(4))\n",
    "promedios.append( calc_timemedio(5))\n",
    "promedios.append( calc_timemedio(6))\n",
    "print promedios"
   ]
  },
  {
   "cell_type": "markdown",
   "metadata": {},
   "source": [
    "Grafica de interpolacion"
   ]
  },
  {
   "cell_type": "code",
   "execution_count": 490,
   "metadata": {
    "collapsed": false
   },
   "outputs": [
    {
     "data": {
      "text/plain": [
       "<matplotlib.legend.Legend at 0x90c6208>"
      ]
     },
     "execution_count": 490,
     "metadata": {},
     "output_type": "execute_result"
    },
    {
     "data": {
      "image/png": "[encoded data removed]",
      "text/plain": [
       "<matplotlib.figure.Figure at 0xe525550>"
      ]
     },
     "metadata": {},
     "output_type": "display_data"
    }
   ],
   "source": [
    "%matplotlib inline\n",
    "import matplotlib.pyplot as plt\n",
    "import numpy as np\n",
    "from scipy.interpolate import interp1d\n",
    "import math\n",
    "\n",
    "x = np.linspace(4,6,3,endpoint=True)\n",
    "x2 = np.linspace(4,6,10,endpoint=True)\n",
    "\n",
    "f1 = interp1d(x,mejores,kind='quadratic')\n",
    "f2 = interp1d(x,peores,kind='quadratic')\n",
    "f3 = interp1d(x,promedios,kind='quadratic')\n",
    "\n",
    "#plt.plot(x,mejores,x,peores,x,promedios)\n",
    "plt.plot(x2,f1(x2),x2,f2(x2),x2,f3(x2))\n",
    "plt.legend(['Mejor','Peor','Promedio'],loc='best')"
   ]
  },
  {
   "cell_type": "code",
   "execution_count": null,
   "metadata": {
    "collapsed": true
   },
   "outputs": [],
   "source": []
  },
  {
   "cell_type": "code",
   "execution_count": null,
   "metadata": {
    "collapsed": true
   },
   "outputs": [],
   "source": []
  }
 ],
 "metadata": {
  "kernelspec": {
   "display_name": "Python 2",
   "language": "python",
   "name": "python2"
  },
  "language_info": {
   "codemirror_mode": {
    "name": "ipython",
    "version": 2
   },
   "file_extension": ".py",
   "mimetype": "text/x-python",
   "name": "python",
   "nbconvert_exporter": "python",
   "pygments_lexer": "ipython2",
   "version": "2.7.11"
  }
 },
 "nbformat": 4,
 "nbformat_minor": 0
}
