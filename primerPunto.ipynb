{
 "cells": [
  {
   "cell_type": "code",
   "execution_count": 399,
   "metadata": {
    "collapsed": true
   },
   "outputs": [],
   "source": [
    "\n",
    "import math\n",
    "import itertools\n",
    "import numpy as np\n",
    "import pylab as pl\n",
    "import pandas as pd\n",
    "import time\n",
    "import gc\n",
    "import matplotlib.pyplot as plt\n",
    "import scipy\n",
    "from __future__ import unicode_literals\n",
    "%matplotlib inline"
   ]
  },
  {
   "cell_type": "code",
   "execution_count": 400,
   "metadata": {
    "collapsed": true
   },
   "outputs": [],
   "source": [
    "\n",
    "def insertion_sort(A):\n",
    "    time1=time.clock()\n",
    "    j=1\n",
    "    while j < len(A):\n",
    "        pos = A[j]\n",
    "        i = j - 1\n",
    "        while (i >= 0) and (A[i] > pos):\n",
    "            A[i + 1] = A[i]\n",
    "            i -= 1\n",
    "        A[i + 1] = pos\n",
    "        j += 1\n",
    "    return time.clock()-time1"
   ]
  },
  {
   "cell_type": "code",
   "execution_count": 401,
   "metadata": {
    "collapsed": false
   },
   "outputs": [
    {
     "data": {
      "text/plain": [
       "1.108416290662717e-05"
      ]
     },
     "execution_count": 401,
     "metadata": {},
     "output_type": "execute_result"
    }
   ],
   "source": [
    "a=[3,4,5,6]\n",
    "insertion_sort(a)"
   ]
  },
  {
   "cell_type": "code",
   "execution_count": 402,
   "metadata": {
    "collapsed": false
   },
   "outputs": [],
   "source": [
    "def calc_timemejor( n):\n",
    "    timesum = 0\n",
    "    gc.collect()\n",
    "    for i in range(1000):\n",
    "        ordenada=range(1,n+1)\n",
    "    \n",
    "        timesum+=insertion_sort(ordenada)\n",
    "        \n",
    "    return (timesum/1000)"
   ]
  },
  {
   "cell_type": "code",
   "execution_count": 403,
   "metadata": {
    "collapsed": false
   },
   "outputs": [
    {
     "data": {
      "text/plain": [
       "8.048333451370126e-06"
      ]
     },
     "execution_count": 403,
     "metadata": {},
     "output_type": "execute_result"
    }
   ],
   "source": [
    "calc_timemejor(4)"
   ]
  },
  {
   "cell_type": "code",
   "execution_count": 404,
   "metadata": {
    "collapsed": false
   },
   "outputs": [],
   "source": [
    "def calc_timepeor( n):\n",
    "    \n",
    "    timesum = 0\n",
    "    gc.collect()\n",
    "   \n",
    "    for i in range(1000):\n",
    "        desordenada=range(n,0,-1)\n",
    "        \n",
    "        timesum+=insertion_sort(desordenada)\n",
    "        \n",
    "    return (timesum/1000)"
   ]
  },
  {
   "cell_type": "code",
   "execution_count": 405,
   "metadata": {
    "collapsed": false
   },
   "outputs": [
    {
     "data": {
      "text/plain": [
       "9.248707288861624e-06"
      ]
     },
     "execution_count": 405,
     "metadata": {},
     "output_type": "execute_result"
    }
   ],
   "source": [
    "calc_timepeor(4)"
   ]
  },
  {
   "cell_type": "code",
   "execution_count": 406,
   "metadata": {
    "collapsed": false
   },
   "outputs": [],
   "source": [
    "def calc_timemedio(n):\n",
    " \n",
    "    medio=0\n",
    "    tam=0\n",
    "    timesum=0\n",
    "    gc.collect()\n",
    "    lista=range(1,n+1)\n",
    "    for i in range(1000):\n",
    "        for p in itertools.permutations(lista):\n",
    "            medio+=insertion_sort(list(p))\n",
    "            tam+=1\n",
    "        timesum+=(medio/tam)\n",
    "        \n",
    "    return (timesum/1000)\n",
    "            "
   ]
  },
  {
   "cell_type": "code",
   "execution_count": 407,
   "metadata": {
    "collapsed": false
   },
   "outputs": [
    {
     "data": {
      "text/plain": [
       "8.185562888703285e-06"
      ]
     },
     "execution_count": 407,
     "metadata": {},
     "output_type": "execute_result"
    }
   ],
   "source": [
    "calc_timemedio(4)"
   ]
  },
  {
   "cell_type": "code",
   "execution_count": 408,
   "metadata": {
    "collapsed": false
   },
   "outputs": [
    {
     "name": "stdout",
     "output_type": "stream",
     "text": [
      "[4.961599543094053e-06, 7.281884250915028e-06, 9.608737302187365e-06]\n"
     ]
    }
   ],
   "source": [
    "mejores=[]\n",
    "mejor4=calc_timemejor(4)\n",
    "mejor5=calc_timemejor(5)\n",
    "mejor6=calc_timemejor(6)\n",
    "mejores.append(mejor4)\n",
    "mejores.append(mejor5)\n",
    "mejores.append(mejor6)\n",
    "print mejores"
   ]
  },
  {
   "cell_type": "code",
   "execution_count": 409,
   "metadata": {
    "collapsed": false
   },
   "outputs": [
    {
     "name": "stdout",
     "output_type": "stream",
     "text": [
      "[1.0843595055121113e-05, 1.4865914497931953e-05, 1.8874686593335354e-05]\n"
     ]
    }
   ],
   "source": [
    "peores=[]\n",
    "peores.append(calc_timepeor(4))\n",
    "peores.append(calc_timepeor(5))\n",
    "peores.append(calc_timepeor(6))\n",
    "print peores\n"
   ]
  },
  {
   "cell_type": "code",
   "execution_count": 410,
   "metadata": {
    "collapsed": false
   },
   "outputs": [
    {
     "name": "stdout",
     "output_type": "stream",
     "text": [
      "[7.203337981051723e-06, 8.871961806073066e-06, 1.1307301531686491e-05]\n"
     ]
    }
   ],
   "source": [
    "promedios=[]\n",
    "promedios.append( calc_timemedio(4))\n",
    "promedios.append( calc_timemedio(5))\n",
    "promedios.append( calc_timemedio(6))\n",
    "print promedios"
   ]
  },
  {
   "cell_type": "code",
   "execution_count": 411,
   "metadata": {
    "collapsed": false
   },
   "outputs": [
    {
     "data": {
      "text/plain": [
       "<matplotlib.legend.Legend at 0xd838c18>"
      ]
     },
     "execution_count": 411,
     "metadata": {},
     "output_type": "execute_result"
    },
    {
     "data": {
      "image/png": "[encoded data removed]",
      "text/plain": [
       "<matplotlib.figure.Figure at 0xd3f6160>"
      ]
     },
     "metadata": {},
     "output_type": "display_data"
    }
   ],
   "source": [
    "%matplotlib inline\n",
    "import matplotlib.pyplot as plt\n",
    "import numpy as np\n",
    "from scipy.interpolate import interp1d\n",
    "import math\n",
    "\n",
    "x = np.linspace(4,6,3,endpoint=True)\n",
    "x2 = np.linspace(4,6,10,endpoint=True)\n",
    "\n",
    "f1 = interp1d(x,mejores,kind='quadratic')\n",
    "f2 = interp1d(x,peores,kind='quadratic')\n",
    "f3 = interp1d(x,promedios,kind='quadratic')\n",
    "\n",
    "#plt.plot(x,mejores,x,peores,x,promedios)\n",
    "plt.plot(x2,f1(x2),x2,f2(x2),x2,f3(x2))\n",
    "plt.legend(['Mejor','Peor','Promedio'],loc='best')"
   ]
  },
  {
   "cell_type": "code",
   "execution_count": null,
   "metadata": {
    "collapsed": true
   },
   "outputs": [],
   "source": []
  }
 ],
 "metadata": {
  "kernelspec": {
   "display_name": "Python 2",
   "language": "python",
   "name": "python2"
  },
  "language_info": {
   "codemirror_mode": {
    "name": "ipython",
    "version": 2
   },
   "file_extension": ".py",
   "mimetype": "text/x-python",
   "name": "python",
   "nbconvert_exporter": "python",
   "pygments_lexer": "ipython2",
   "version": "2.7.11"
  }
 },
 "nbformat": 4,
 "nbformat_minor": 0
}
